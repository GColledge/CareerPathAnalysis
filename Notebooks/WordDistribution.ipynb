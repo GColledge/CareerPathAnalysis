{
 "cells": [
  {
   "cell_type": "code",
   "execution_count": 1,
   "metadata": {},
   "outputs": [],
   "source": [
    "import nltk;\n",
    "from nltk.corpus import stopwords;\n",
    "stopwords = nltk.corpus.stopwords.words('english');"
   ]
  },
  {
   "cell_type": "code",
   "execution_count": 2,
   "metadata": {},
   "outputs": [],
   "source": [
    "def wordLister(datafilePath):\n",
    "    #open the file\n",
    "    datafile = open(datafilePath);\n",
    "    linesList = []\n",
    "    numLines = 1000000;\n",
    "    #read in each line\n",
    "    for i in range(0,numLines):\n",
    "        line = datafile.readline();\n",
    "        linesList.append(line);\n",
    "    #close file\n",
    "    datafile.close();\n",
    "    wordsList = []\n",
    "    titleList = []\n",
    "    #get all the words in all lines into one list\n",
    "    for i in range(0,len(linesList)):\n",
    "        titlesInLine = linesList[i].split();\n",
    "        for title in titlesInLine:\n",
    "            #replace underscores with spaces\n",
    "            titleList.append(title.replace('_', ' '));\n",
    "    for each in titleList:\n",
    "        #split on whitespcae\n",
    "        words = each.split();\n",
    "        for word in words:\n",
    "            #get rid of special characters\n",
    "            word1 = ''.join(l for l in word if l.isalnum())\n",
    "            wordsList.append(word1);\n",
    "        \n",
    "    return wordsList;\n",
    "    "
   ]
  },
  {
   "cell_type": "code",
   "execution_count": 3,
   "metadata": {},
   "outputs": [],
   "source": [
    "DataFilePath = \"/Users/gregorycolledge/gcolledge/gcolledge/MSD_6019/allPaths.txt\";\n",
    "myWordList = wordLister(DataFilePath);#This line takes a while\n",
    "# remove stopwords\n",
    "filtered_words = [word for word in myWordList if word not in stopwords];"
   ]
  },
  {
   "cell_type": "code",
   "execution_count": 4,
   "metadata": {},
   "outputs": [
    {
     "name": "stdout",
     "output_type": "stream",
     "text": [
      "<FreqDist with 192237 samples and 18328554 outcomes>\n"
     ]
    }
   ],
   "source": [
    "wordDistribution = nltk.FreqDist(filtered_words);\n",
    "print(wordDistribution)"
   ]
  },
  {
   "cell_type": "code",
   "execution_count": 5,
   "metadata": {},
   "outputs": [
    {
     "name": "stdout",
     "output_type": "stream",
     "text": [
      "[('manager', 1081093), ('senior', 642407), ('director', 600036), ('president', 395661), ('engineer', 393488), ('consultant', 291475), ('vice', 290686), ('sales', 286048), ('analyst', 253707), ('business', 245650), ('marketing', 225744), ('development', 217667), ('assistant', 214387), ('project', 178179), ('intern', 167825), ('executive', 167366), ('software', 165379), ('operations', 156448), ('associate', 150241), ('management', 132057), ('lead', 126207), ('officer', 125882), ('specialist', 124949), ('research', 119688), ('technical', 117964), ('account', 116751), ('product', 115275), ('global', 115073), ('chief', 110421), ('services', 102732), ('systems', 100477), ('developer', 96449), ('head', 94991), ('engineering', 94896), ('program', 87182), ('financial', 79873), ('member', 75250), ('coordinator', 74991), ('general', 74173), ('principal', 71995), ('ceo', 71909), ('corporate', 68469), ('technology', 68168), ('architect', 67576), ('finance', 67466), ('service', 65789), ('partner', 65587), ('support', 64873), ('managing', 64564), ('board', 63488), ('human', 63296), ('regional', 62284), ('administrator', 61016), ('team', 59767), ('recruiter', 59214), ('leader', 59030), ('owner', 58419), ('hr', 58392), ('supervisor', 57236), ('data', 57090), ('resources', 56559), ('founder', 56481), ('group', 56431), ('strategy', 54178), ('', 53197), ('customer', 51463), ('representative', 51017), ('advisor', 50527), ('staff', 50079), ('network', 46506), ('programmer', 45229), ('design', 44560), ('security', 43411), ('planning', 43302), ('quality', 42489), ('information', 41827), ('designer', 41417), ('solutions', 41277), ('strategic', 40839), ('scientist', 40542), ('communications', 39748), ('system', 37955), ('technician', 37492), ('office', 36061), ('student', 35618), ('cofounder', 32706), ('digital', 32376), ('relations', 31466), ('enterprise', 31411), ('production', 31317), ('vp', 31189), ('division', 30971), ('professor', 30904), ('analytics', 30197), ('process', 29775), ('web', 29371), ('national', 29277), ('field', 28677), ('contract', 28596), ('client', 28578), ('international', 28575), ('risk', 27953), ('summer', 27384), ('media', 26859), ('commercial', 26764), ('instructor', 26631), ('controller', 26567), ('training', 25937), ('application', 25876), ('graduate', 25782), ('supply', 25028), ('consulting', 24702), ('cto', 24616), ('center', 24509), ('department', 24493), ('counsel', 24416), ('market', 24406), ('cfo', 24109), ('medical', 23687), ('investment', 23655), ('brand', 23308), ('professional', 23215), ('america', 22775), ('ii', 22771), ('acquisition', 21967), ('compliance', 21893), ('administrative', 21234), ('clinical', 21027), ('affairs', 20907), ('us', 20403), ('north', 20393), ('accountant', 20300), ('chain', 20276), ('teaching', 20189), ('sap', 20158), ('fellow', 20148), ('banking', 20113), ('accounting', 19840), ('district', 19446), ('control', 19287), ('new', 19259), ('editor', 19194), ('manufacturing', 19149), ('public', 19144), ('assistantlent', 19136), ('health', 19070), ('cio', 18985), ('researcher', 18897), ('retail', 18662), ('recruiting', 18645), ('de', 18444), ('deputy', 18341), ('teacher', 18172), ('area', 17946), ('advisory', 17627), ('agent', 17624), ('infrastructure', 17577), ('test', 17573), ('chairman', 17335), ('writer', 17325), ('assurance', 17224), ('store', 17114), ('delivery', 17011), ('audit', 16980), ('accounts', 16876), ('qa', 16764), ('trainer', 16652), ('producer', 16449), ('directors', 16402), ('analysis', 16335), ('legal', 15872), ('safety', 15863), ('logistics', 15860), ('coach', 15839), ('applications', 15589), ('adjunct', 15358), ('region', 15288), ('independent', 15167), ('trainee', 15085), ('operating', 15023), ('coo', 14652), ('credit', 14570), ('procurement', 14568), ('creative', 14567), ('contractor', 14381), ('freelance', 14311), ('intelligence', 14283), ('integration', 14229), ('computer', 14222), ('care', 14148), ('innovation', 14130), ('attorney', 14035), ('planner', 13772), ('social', 13737), ('unit', 13640), ('portfolio', 13545), ('auditor', 13478), ('database', 13467), ('products', 13391), ('svice', 13342), ('real', 13277), ('practice', 13242), ('maintenance', 13195), ('science', 13065), ('estate', 13045), ('consumer', 12995), ('energy', 12976), ('operator', 12936), ('projects', 12871), ('special', 12842), ('internal', 12657), ('solution', 12544), ('recruitment', 12432), ('branch', 12380), ('mechanical', 12367), ('experience', 12147), ('americas', 12106), ('leadership', 12094), ('electrical', 12092), ('junior', 12089), ('talent', 11898), ('administration', 11715), ('performance', 11589), ('clerk', 11336), ('buyer', 11332), ('cloud', 11191), ('sourcing', 10940), ('asia', 10895), ('volunteer', 10806), ('svp', 10761), ('site', 10725), ('architecture', 10611), ('markets', 10602), ('education', 10510), ('programs', 10363), ('expert', 10349), ('community', 10258), ('strategist', 10247), ('plant', 10231), ('content', 10224), ('mobile', 10208), ('mgr', 10175), ('resource', 10135), ('secretary', 10124), ('committee', 9877), ('investor', 9831), ('channel', 9785), ('lecturer', 9751), ('learning', 9723), ('relationship', 9722), ('equity', 9708), ('reporting', 9670), ('chair', 9660), ('regulatory', 9656), ('europe', 9572), ('policy', 9552), ('master', 9516), ('staffing', 9489), ('insurance', 9465), ('distribution', 9431), ('industrial', 9424), ('construction', 9418), ('advanced', 9321), ('territory', 9288), ('capital', 9286), ('interim', 9266), ('purchasing', 9151), ('ecommerce', 8943), ('loan', 8881), ('oracle', 8825), ('engagement', 8775), ('tech', 8724), ('gm', 8707), ('environmental', 8664), ('private', 8623), ('iii', 8591), ('benefits', 8336), ('graphic', 8258), ('healthcare', 8221), ('lab', 8211), ('asset', 8194), ('various', 8182), ('platform', 8157), ('desk', 8091), ('online', 8017), ('generalist', 7978), ('employee', 7977), ('faculty', 7958), ('broker', 7938), ('category', 7935), ('implementation', 7866), ('trading', 7830), ('server', 7797), ('advertising', 7748), ('personal', 7736), ('government', 7720), ('postdoctoral', 7580), ('east', 7566), ('transformation', 7564), ('internet', 7475), ('compensation', 7412), ('property', 7403), ('admin', 7354), ('nurse', 7307), ('automation', 7265), ('rep', 7262), ('emea', 7204), ('realtor', 7042), ('art', 7038), ('co', 7035), ('user', 6968), ('law', 6964), ('mortgage', 6963), ('mba', 6939), ('event', 6901), ('pricing', 6843), ('key', 6818), ('line', 6759), ('trade', 6755), ('power', 6732), ('java', 6658), ('industry', 6628), ('change', 6622), ('certified', 6605), ('facilities', 6590), ('latin', 6588), ('asst', 6553), ('food', 6528), ('life', 6526), ('materials', 6515), ('central', 6515), ('chef', 6477), ('improvement', 6476), ('assistantx', 6452), ('visiting', 6402), ('school', 6402), ('treasurer', 6373), ('retired', 6369), ('dba', 6368), ('superintendent', 6361), ('communication', 6348), ('inside', 6347), ('trader', 6329), ('treasury', 6305), ('mentor', 6290), ('artist', 6224), ('pacific', 6221), ('country', 6209), ('coop', 6190), ('pharmacy', 6150), ('tutor', 6146), ('worldwide', 6132), ('hardware', 6030), ('events', 6022), ('claims', 6018), ('front', 6004), ('technologist', 5994), ('company', 5951), ('resident', 5873), ('warehouse', 5832), ('counselor', 5791), ('controls', 5715), ('technologies', 5647), ('undergraduate', 5640), ('merchandising', 5635), ('partnerships', 5631), ('excellence', 5556), ('crm', 5540), ('insights', 5534), ('west', 5525), ('laboratory', 5426), ('operation', 5376), ('revenue', 5364), ('gas', 5357), ('major', 5338), ('inventory', 5310), ('south', 5301), ('search', 5281), ('avp', 5280), ('bank', 5270), ('founding', 5229), ('unix', 5225), ('liaison', 5220), ('home', 5219), ('ux', 5209), ('phd', 5189), ('contracts', 5181), ('bi', 5152), ('inspector', 5141), ('storage', 5121), ('section', 5117), ('positions', 5099), ('operational', 5055), ('transportation', 5048), ('physician', 4895), ('career', 4877), ('university', 4862), ('evice', 4801), ('underwriter', 4801), ('pmo', 4756), ('desktop', 4753), ('randd', 4750), ('africa', 4748), ('fixed', 4745), ('external', 4738), ('drilling', 4734), ('cost', 4691), ('payroll', 4632), ('western', 4630), ('middle', 4630), ('ibm', 4618), ('tax', 4599), ('english', 4598), ('video', 4576), ('equipment', 4505), ('scientific', 4442), ('american', 4427), ('specialty', 4410), ('sector', 4389), ('growth', 4388), ('oncology', 4387), ('chemist', 4372), ('parts', 4368), ('china', 4365), ('direct', 4365), ('hse', 4363), ('licensed', 4358), ('programming', 4355), ('state', 4347), ('organizational', 4342), ('reporter', 4339), ('automotive', 4338), ('captain', 4334), ('integrated', 4304), ('electronics', 4299), ('sergeant', 4287), ('pr', 4279), ('alliances', 4274), ('medicine', 4272), ('author', 4266), ('uk', 4256), ('campus', 4253), ('geologist', 4252), ('ambassador', 4224), ('programme', 4208), ('college', 4197), ('acting', 4169), ('merchandise', 4158), ('travel', 4151), ('protection', 4143), ('acquisitions', 4137), ('quantitative', 4114), ('avice', 4096), ('commander', 4089), ('wealth', 4083), ('actuarial', 4076), ('time', 4075), ('first', 4065), ('reservoir', 4063), ('speaker', 4023), ('vicepresident', 4019), ('microsoft', 4014), ('emerging', 3944), ('sciences', 3927), ('manda', 3923), ('registered', 3914), ('supplier', 3899), ('dept', 3898), ('interactive', 3893), ('packaging', 3869), ('ui', 3868), ('governance', 3864), ('cmo', 3846), ('photographer', 3845), ('seniorteaching', 3831), ('council', 3829), ('investigator', 3823), ('flight', 3790), ('organization', 3786), ('validation', 3773), ('small', 3771), ('level', 3770), ('worker', 3755), ('optimization', 3748), ('evp', 3745), ('agency', 3731), ('2', 3720), ('initiatives', 3694), ('electronic', 3670), ('oil', 3656), ('core', 3653), ('guest', 3645), ('usa', 3639), ('candidate', 3635), ('paralegal', 3622), ('high', 3618), ('banker', 3613), ('pharmaceutical', 3603), ('pilot', 3572), ('air', 3572), ('legislative', 3560), ('cyber', 3542), ('civil', 3538), ('testing', 3530), ('facilitator', 3513), ('diversity', 3493), ('functional', 3488), ('european', 3471), ('fund', 3448), ('reliability', 3443), ('income', 3443), ('ops', 3430), ('end', 3429), ('employment', 3429), ('divisional', 3425), ('underwriting', 3417), ('lean', 3404), ('people', 3393), ('access', 3392), ('shift', 3371), ('success', 3370), ('loss', 3366), ('canada', 3362), ('roles', 3351), ('institutional', 3344), ('federal', 3339), ('therapist', 3336), ('dealer', 3328), ('visual', 3313), ('driver', 3308), ('marine', 3301), ('big', 3284), ('managed', 3274), ('statistical', 3273), ('inc', 3261), ('investments', 3255), ('qc', 3246), ('vendor', 3232), ('sigma', 3223), ('vehicle', 3221), ('coowner', 3219), ('release', 3212), ('sports', 3199), ('campaign', 3183), ('receptionist', 3180), ('e', 3173), ('academic', 3165), ('litigation', 3163), ('telecom', 3156), ('prevention', 3138), ('erp', 3134), ('computing', 3113), ('parttime', 3096), ('outreach', 3093), ('windows', 3090), ('demand', 3086), ('case', 3084), ('india', 3067), ('military', 3049), ('processing', 3043), ('news', 3039), ('presales', 3021), ('black', 3021), ('franchise', 3010), ('principle', 3003), ('wireless', 3003), ('help', 2995), ('agile', 2989), ('work', 2983), ('entertainment', 2982), ('editorial', 2968), ('telecommunications', 2967), ('ww', 2957), ('eastern', 2953), ('adviser', 2940), ('material', 2940), ('six', 2932), ('fpanda', 2931), ('mobility', 2927), ('instructional', 2907), ('shared', 2905), ('pm', 2903), ('part', 2900), ('dir', 2897), ('belt', 2894), ('rn', 2889), ('cashier', 2882), ('host', 2880), ('police', 2865), ('na', 2862), ('facility', 2856), ('labor', 2846), ('copywriter', 2834), ('pharmacist', 2824), ('call', 2822), ('full', 2818), ('mechanic', 2812), ('music', 2808), ('admissions', 2808), ('promotions', 2807), ('machine', 2806), ('scholar', 2795), ('entrepreneur', 2793), ('fleet', 2791), ('economic', 2765), ('patient', 2764), ('venture', 2764), ('deployment', 2760), ('1', 2756), ('segment', 2745), ('emergency', 2743), ('language', 2738), ('alliance', 2733), ('gerente', 2733), ('lending', 2721), ('chemical', 2712), ('andteaching', 2708), ('provider', 2701), ('personnel', 2701), ('family', 2697), ('export', 2685), ('structural', 2682), ('dev', 2677), ('manger', 2676), ('net', 2669), ('local', 2666), ('derivatives', 2665), ('aviation', 2664), ('post', 2663), ('actuary', 2657), ('sustainability', 2649), ('aircraft', 2641), ('rf', 2638), ('commodity', 2635), ('charge', 2635), ('billing', 2617), ('tools', 2605), ('class', 2597), ('hospital', 2595), ('linux', 2574), ('crew', 2573), ('3', 2558), ('ip', 2555), ('payable', 2555), ('city', 2553), ('sw', 2545), ('embedded', 2543), ('educator', 2542), ('sql', 2536), ('building', 2530), ('generation', 2529), ('responsable', 2521), ('seo', 2508), ('economics', 2494), ('tester', 2493), ('directeur', 2491), ('md', 2484), ('coast', 2466), ('sme', 2457), ('workforce', 2449), ('analytical', 2449), ('wholesale', 2442), ('licensing', 2438), ('car', 2436), ('economist', 2418), ('foreign', 2414), ('leasing', 2414), ('force', 2411), ('devops', 2400), ('nuclear', 2388), ('physical', 2382), ('publisher', 2374), ('chemistry', 2372), ('translator', 2368), ('modeling', 2360), ('northeast', 2359), ('ios', 2358), ('environment', 2348), ('outside', 2345), ('c', 2327), ('ofteaching', 2326), ('apac', 2323), ('exploration', 2309), ('model', 2292), ('networking', 2287), ('residential', 2283), ('world', 2279), ('radio', 2267), ('course', 2266), ('frontend', 2264), ('game', 2262), ('oem', 2256), ('beverage', 2250), ('advocate', 2249), ('dean', 2242), ('knowledge', 2240), ('merchandiser', 2212), ('imaging', 2209), ('collections', 2202), ('petroleum', 2200), ('pc', 2193), ('exchange', 2190), ('mergers', 2190), ('ebusiness', 2188), ('membership', 2183), ('scheduler', 2170), ('multimedia', 2165), ('cad', 2164), ('exec', 2148), ('position', 2145), ('studies', 2129), ('centre', 2127), ('surgery', 2119), ('budget', 2119), ('chapter', 2108), ('iv', 2107), ('channels', 2105), ('mgmt', 2094), ('document', 2092), ('networks', 2090), ('patent', 2088), ('southeast', 2087), ('scrum', 2085), ('shop', 2080), ('aide', 2065), ('non', 2065), ('helpdesk', 2062), ('hris', 2061), ('voice', 2056), ('securities', 2051), ('onsite', 2046), ('geophysicist', 2043), ('managerteaching', 2028), ('distinguished', 2027), ('cash', 2024), ('water', 2024), ('teller', 2024), ('value', 2021), ('effectiveness', 2017), ('sas', 2015), ('execution', 2013), ('walmart', 2013), ('studio', 2013), ('york', 2013), ('lieutenant', 2009), ('audio', 2000), ('engine', 1992), ('continuous', 1990), ('mexico', 1988), ('institute', 1987), ('club', 1985), ('gis', 1980), ('commissioning', 1980), ('rdengineer', 1975), ('defense', 1971), ('device', 1969), ('processor', 1962), ('en', 1961), ('globalteaching', 1959), ('army', 1955), ('journalist', 1952), ('practitioner', 1944), ('recovery', 1943), ('analista', 1942), ('youth', 1936), ('past', 1931), ('house', 1930), ('partnership', 1929), ('firmware', 1927), ('platforms', 1927), ('temporary', 1921), ('conference', 1915), ('japan', 1914), ('et', 1907), ('fire', 1905), ('hp', 1904), ('southern', 1897), ('structured', 1893), ('united', 1883), ('traffic', 1883), ('sharepoint', 1881), ('mis', 1878), ('organizer', 1877), ('zone', 1871), ('estimator', 1864), ('foreman', 1862), ('apprentice', 1859), ('transition', 1859), ('android', 1858), ('verification', 1855), ('offshore', 1855), ('latam', 1850), ('nursing', 1842), ('card', 1840), ('wellness', 1837), ('command', 1834), ('strategies', 1832), ('evaluation', 1831), ('contributor', 1830), ('startup', 1829), ('monitoring', 1827), ('2nd', 1825), ('b2b', 1823), ('webmaster', 1810), ('corp', 1810), ('residence', 1806), ('former', 1804), ('directorteaching', 1803), ('electrician', 1793), ('room', 1790), ('decision', 1786), ('statistician', 1785), ('land', 1783), ('merchant', 1782), ('etl', 1781), ('graphics', 1770), ('enablement', 1769), ('drug', 1767), ('press', 1761), ('basis', 1760), ('assembly', 1755), ('space', 1755), ('mathematics', 1754), ('mission', 1754), ('transaction', 1754), ('sourcer', 1749), ('iot', 1748), ('ge', 1747), ('aerospace', 1746), ('brands', 1746), ('order', 1740), ('instrument', 1737), ('retirement', 1735), ('repair', 1733), ('midwest', 1731), ('assessment', 1731), ('informatics', 1725), ('study', 1721), ('contact', 1719), ('examiner', 1719), ('lines', 1719), ('la', 1718), ('joint', 1711), ('restaurant', 1708), ('evangelist', 1700), ('natural', 1699), ('ad', 1698), ('political', 1696), ('interface', 1696), ('review', 1694), ('interior', 1688), ('documentation', 1687), ('interpreter', 1687), ('subject', 1681), ('ventures', 1680), ('response', 1674), ('foundation', 1671), ('womens', 1670), ('transmission', 1667), ('tv', 1667), ('affiliate', 1666), ('installation', 1664), ('bartender', 1661), ('france', 1660), ('intellectual', 1659), ('assignment', 1655), ('contributing', 1654), ('matter', 1653), ('commissioner', 1652), ('doctoral', 1651), ('commerce', 1645), ('well', 1643), ('plan', 1640), ('payments', 1636), ('smart', 1627), ('trustee', 1626), ('ehs', 1626), ('total', 1625), ('critical', 1616), ('promotion', 1615), ('shipping', 1614), ('standards', 1612), ('surgical', 1609), ('auto', 1607), ('fitness', 1604), ('utilities', 1598), ('mts', 1597), ('open', 1594), ('controlling', 1582), ('trust', 1580), ('observer', 1580), ('mining', 1580), ('salesforce', 1572), ('math', 1563), ('floor', 1560), ('camp', 1558), ('carrier', 1558), ('placement', 1557), ('large', 1556), ('configuration', 1552), ('job', 1548), ('correspondent', 1547), ('website', 1542), ('retention', 1542), ('assoc', 1541), ('privacy', 1535), ('advisors', 1534), ('cochair', 1532), ('collaboration', 1531), ('assistance', 1531), ('fraud', 1520), ('writing', 1517), ('launch', 1515), ('snr', 1513), ('alumni', 1510), ('pastor', 1507), ('surveyor', 1504), ('instrumentation', 1502), ('branding', 1500), ('cardiovascular', 1498), ('rewards', 1490), ('substitute', 1488), ('r', 1486), ('states', 1480), ('outsourcing', 1479), ('partners', 1478), ('hotel', 1478), ('applied', 1477), ('google', 1476), ('receivable', 1476), ('devices', 1475), ('apps', 1474), ('entry', 1474), ('ict', 1472), ('distributor', 1470), ('show', 1455), ('architectural', 1454), ('naval', 1452), ('print', 1450), ('contracting', 1449), ('virtual', 1433), ('eng', 1431), ('nutrition', 1429), ('experienced', 1429), ('pipeline', 1426), ('integrator', 1421), ('san', 1421), ('arts', 1419), ('california', 1413), ('stack', 1409), ('discovery', 1408), ('tier', 1408), ('stores', 1407), ('peoplesoft', 1405), ('working', 1404), ('managment', 1401), ('aml', 1399), ('forecasting', 1394), ('asic', 1388), ('transfer', 1386), ('lawyer', 1380), ('piping', 1380), ('integrity', 1378), ('corps', 1378), ('self', 1373), ('fashion', 1371), ('educational', 1370), ('caribbean', 1370), ('loyalty', 1365), ('amazon', 1362), ('machinist', 1362), ('cook', 1361), ('tour', 1361), ('biology', 1361), ('northern', 1360), ('stage', 1360), ('se', 1359), ('equities', 1357), ('cnc', 1352), ('proposal', 1349), ('lan', 1346), ('import', 1345), ('attendant', 1343), ('peer', 1334), ('remote', 1325), ('guide', 1325), ('electric', 1325), ('migration', 1324), ('australia', 1322), ('primary', 1313), ('physics', 1310), ('respiratory', 1309), ('blogger', 1308), ('texas', 1305), ('1st', 1304), ('freelancer', 1301), ('inclusion', 1300), ('participant', 1300), ('records', 1299), ('film', 1297)]\n"
     ]
    }
   ],
   "source": [
    "print(wordDistribution.most_common(1000))"
   ]
  },
  {
   "cell_type": "code",
   "execution_count": 6,
   "metadata": {},
   "outputs": [
    {
     "name": "stdout",
     "output_type": "stream",
     "text": [
      "['software', 'developer', 'intern', 'teaching', 'assistant', 'software', 'engineer', 'software', 'engineer', 'software', 'engineer', 'israel', 'sociological', 'society', 'cochairman', 'gender', 'comunity', 'founder', 'coeditor', 'migdar', 'gender', 'academic', 'journal', 'lecturer', 'book', 'author', 'member', 'ceo', 'member', 'board', 'president', 'member', 'board', 'member', 'board', 'editorial', 'assistant', 'editorial', 'assistant', 'dr', 'med', 'neuroradiologist', 'dr', 'med', 'radiology', 'departement', 'dr', 'med', 'specialised', 'neuroradiology', 'head', 'neck', 'radiology', 'neuroradiologue', 'fmh', 'et', 'radiologue', 'orl', 'president', 'chair', 'endovascular', 'interventional', 'neurology', 'section', 'director', 'interventional', 'neurology', 'codirector', 'neroendovascular', 'surgery', 'professor', 'neurology', 'neurosurgery', 'fellow', 'society', 'vascular', 'interventional', 'neurology', 'faha', 'fellow', 'american', 'heart', 'association', 'fellow', 'american', 'academy', 'neurology', 'especialista', 'de', 'neurocirugia', 'especialista', 'de', 'neurocirugia', 'especialista', 'de', 'neurocirugia', 'especialista', 'de', 'neurocirugia', 'mdico']\n"
     ]
    }
   ],
   "source": [
    "print(filtered_words[:100])"
   ]
  },
  {
   "cell_type": "code",
   "execution_count": 7,
   "metadata": {},
   "outputs": [
    {
     "name": "stdout",
     "output_type": "stream",
     "text": [
      "192237\n"
     ]
    }
   ],
   "source": [
    "print(len(wordDistribution))"
   ]
  },
  {
   "cell_type": "code",
   "execution_count": 14,
   "metadata": {},
   "outputs": [],
   "source": [
    "with open(DataFilePath) as file:\n",
    "    title_freq = {}\n",
    "    for i in range(0,1000000):\n",
    "        line = file.readline().split();\n",
    "        for title in line:\n",
    "            if title not in title_freq:\n",
    "                title_freq[title] = 0;\n",
    "            title_freq[title]+=1"
   ]
  },
  {
   "cell_type": "code",
   "execution_count": 15,
   "metadata": {},
   "outputs": [],
   "source": [
    "    title_freq = sorted(title_freq.items(), key=lambda x: x[1], reverse=True)"
   ]
  },
  {
   "cell_type": "code",
   "execution_count": 19,
   "metadata": {},
   "outputs": [
    {
     "name": "stdout",
     "output_type": "stream",
     "text": [
      "[('consultant', 40241), ('software_engineer', 36047), ('president', 34991), ('project_manager', 31090), ('intern', 27715), ('owner', 26351), ('director', 26065), ('vice_president', 25232), ('ceo', 22041), ('senior_software_engineer', 21349)]\n",
      "[('financial_institutions_litigation_and_regulation_associate', 1), ('head_of_sales_uk_signalling', 1), ('general_manager_and_account_director', 1), ('account_director_and_general_manager', 1), ('coating_line_group_leader', 1), ('counsel_partner', 1), ('banking_and_finance_partner', 1), ('pulmonary_program_manager_', 1), ('clinical_liaison_', 1), ('senior_clinical_liaison_', 1)]\n",
      "2213928\n"
     ]
    }
   ],
   "source": [
    "print(title_freq[:10])\n",
    "print(title_freq[-10:])\n",
    "print(len(title_freq))"
   ]
  },
  {
   "cell_type": "markdown",
   "metadata": {},
   "source": [
    "We can see above that there are about 2.2 unique job titles per person. This definitly suggests that we need to consolidate titles in order to get anything useful out of this data."
   ]
  },
  {
   "cell_type": "code",
   "execution_count": null,
   "metadata": {},
   "outputs": [],
   "source": []
  }
 ],
 "metadata": {
  "kernelspec": {
   "display_name": "Python 3",
   "language": "python",
   "name": "python3"
  },
  "language_info": {
   "codemirror_mode": {
    "name": "ipython",
    "version": 3
   },
   "file_extension": ".py",
   "mimetype": "text/x-python",
   "name": "python",
   "nbconvert_exporter": "python",
   "pygments_lexer": "ipython3",
   "version": "3.6.5"
  }
 },
 "nbformat": 4,
 "nbformat_minor": 2
}
